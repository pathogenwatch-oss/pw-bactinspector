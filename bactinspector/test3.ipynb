{
 "cells": [
  {
   "cell_type": "code",
   "execution_count": 1,
   "metadata": {
    "collapsed": true
   },
   "outputs": [],
   "source": [
    "import pandas as pd\n",
    "df = pd.read_parquet('../Sample50_run1/libraries/Viruses.k21s1000.species.pqt')\n",
    "\n"
   ]
  },
  {
   "cell_type": "code",
   "execution_count": 6,
   "outputs": [],
   "source": [
    "foo = df[df['GCF_accession'] == 'GCF_001884675.1']\n",
    "bar = df[df['taxid'] == 1701814]"
   ],
   "metadata": {
    "collapsed": false,
    "pycharm": {
     "name": "#%%\n"
    }
   }
  },
  {
   "cell_type": "code",
   "execution_count": 3,
   "outputs": [
    {
     "data": {
      "text/plain": "[RangeIndex(start=0, stop=9377, step=1),\n Index(['taxid', 'accession', 'GCF_accession', 'GCF_accession_without_version',\n        'filename', 'length', 'num_contigs', 'info', 'refseq_organism_name',\n        'refseq_full_organism_name', 'bacsort_organism_name',\n        'curated_organism_name', 'species_taxid', 'bioproject', 'biosample',\n        'refseq_category', 'infraspecific_name', 'assembly_level', 'asm_name',\n        'submitter', 'ftp_path', 'superkingdom_code', 'genus_code',\n        'species_code', 'superkingdom_name', 'genus_name', 'species_name'],\n       dtype='object')]"
     },
     "execution_count": 3,
     "metadata": {},
     "output_type": "execute_result"
    }
   ],
   "source": [
    "df.axes"
   ],
   "metadata": {
    "collapsed": false,
    "pycharm": {
     "name": "#%%\n"
    }
   }
  },
  {
   "cell_type": "code",
   "execution_count": null,
   "outputs": [],
   "source": [
    "\n"
   ],
   "metadata": {
    "collapsed": false,
    "pycharm": {
     "name": "#%%\n"
    }
   }
  }
 ],
 "metadata": {
  "kernelspec": {
   "display_name": "Python 3",
   "language": "python",
   "name": "python3"
  },
  "language_info": {
   "codemirror_mode": {
    "name": "ipython",
    "version": 2
   },
   "file_extension": ".py",
   "mimetype": "text/x-python",
   "name": "python",
   "nbconvert_exporter": "python",
   "pygments_lexer": "ipython2",
   "version": "2.7.6"
  }
 },
 "nbformat": 4,
 "nbformat_minor": 0
}